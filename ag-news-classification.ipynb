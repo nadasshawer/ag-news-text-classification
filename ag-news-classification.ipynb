{
 "cells": [
  {
   "cell_type": "markdown",
   "id": "16412e4d",
   "metadata": {},
   "source": [
    "## TRAINING DATASET"
   ]
  },
  {
   "cell_type": "markdown",
   "id": "8cf1b3d5",
   "metadata": {},
   "source": [
    "### Basic Configurations"
   ]
  },
  {
   "cell_type": "code",
   "execution_count": 84,
   "id": "1351ac46",
   "metadata": {},
   "outputs": [],
   "source": [
    "# Importing libraries\n",
    "import pandas as pd\n",
    "\n",
    "# Load the training dataset\n",
    "df_train = pd.read_csv(\"train.csv\")\n",
    "\n",
    "# Combine title and description\n",
    "df_train[\"Text\"] = df_train[\"Title\"] + \" \" + df_train[\"Description\"]\n",
    "\n",
    "# Prepare inputs and labels\n",
    "X = df_train[\"Text\"]\n",
    "y = df_train[\"Class Index\"] - 1  # To make classes go from 0-3 instead of 1-4"
   ]
  },
  {
   "cell_type": "markdown",
   "id": "4acee392",
   "metadata": {},
   "source": [
    "### Data Cleaning"
   ]
  },
  {
   "cell_type": "code",
   "execution_count": 86,
   "id": "2dc627b8",
   "metadata": {},
   "outputs": [
    {
     "data": {
      "text/plain": [
       "0    Wall St. Bears Claw Back Into the Black (Reute...\n",
       "1    Carlyle Looks Toward Commercial Aerospace (Reu...\n",
       "2    Oil and Economy Cloud Stocks' Outlook (Reuters...\n",
       "3    Iraq Halts Oil Exports from Main Southern Pipe...\n",
       "4    Oil prices soar to all-time record, posing new...\n",
       "Name: Text, dtype: object"
      ]
     },
     "execution_count": 86,
     "metadata": {},
     "output_type": "execute_result"
    }
   ],
   "source": [
    "df_train[\"Text\"].head()\n",
    "# df.info()"
   ]
  },
  {
   "cell_type": "code",
   "execution_count": 87,
   "id": "3bd485dc",
   "metadata": {},
   "outputs": [],
   "source": [
    "# Lowercasing\n",
    "df_train[\"Text\"] = df_train[\"Text\"].str.lower()"
   ]
  },
  {
   "cell_type": "code",
   "execution_count": 88,
   "id": "46fa340d",
   "metadata": {},
   "outputs": [],
   "source": [
    "# Removing special chars and panctuation\n",
    "import re\n",
    "\n",
    "def clean_text(text):\n",
    "    return re.sub(r\"[^\\w\\s]\", \"\", text)\n",
    "\n",
    "df_train[\"Text\"] = df_train[\"Text\"].apply(clean_text)"
   ]
  },
  {
   "cell_type": "code",
   "execution_count": 89,
   "id": "263df194",
   "metadata": {},
   "outputs": [
    {
     "name": "stderr",
     "output_type": "stream",
     "text": [
      "[nltk_data] Downloading package stopwords to\n",
      "[nltk_data]     C:\\Users\\user\\AppData\\Roaming\\nltk_data...\n",
      "[nltk_data]   Package stopwords is already up-to-date!\n"
     ]
    }
   ],
   "source": [
    "# Removing stopwords\n",
    "import nltk\n",
    "from nltk.corpus import stopwords\n",
    "\n",
    "nltk.download(\"stopwords\")\n",
    "stop_words = set(stopwords.words(\"English\"))\n",
    "\n",
    "def remove_stopwords(text):\n",
    "    words = text.split()        # split sentence to words\n",
    "    filtered_words = [word for word in words if word not in stop_words]     # remove stopwords\n",
    "    return \" \".join(filtered_words)      # rebuild filtered sentence\n",
    "\n",
    "df_train[\"Text\"] = df_train[\"Text\"].apply(remove_stopwords)"
   ]
  },
  {
   "cell_type": "code",
   "execution_count": 90,
   "id": "d8c816de",
   "metadata": {},
   "outputs": [
    {
     "name": "stderr",
     "output_type": "stream",
     "text": [
      "[nltk_data] Downloading package wordnet to\n",
      "[nltk_data]     C:\\Users\\user\\AppData\\Roaming\\nltk_data...\n",
      "[nltk_data]   Package wordnet is already up-to-date!\n"
     ]
    }
   ],
   "source": [
    "# Lemmatizing words\n",
    "from nltk.stem import WordNetLemmatizer\n",
    "\n",
    "nltk.download(\"wordnet\")  \n",
    "lemmatizer = WordNetLemmatizer()\n",
    "\n",
    "def lemmatize_words(text):\n",
    "    words = text.split()        # split sentence to words\n",
    "    lemmatized_words = [lemmatizer.lemmatize(word) for word in words]   # lemmatize\n",
    "    return \" \".join(lemmatized_words)       # rebuild lemmatized sentence\n",
    "\n",
    "df_train[\"Text\"] = df_train[\"Text\"].apply(lemmatize_words)"
   ]
  },
  {
   "cell_type": "code",
   "execution_count": 91,
   "id": "4213af43",
   "metadata": {},
   "outputs": [],
   "source": [
    "df_train.rename(columns = {\"Class Index\": \"Label\"}, inplace = True)   # rename class index column for clarity\n",
    "df_train.drop(columns = [\"Title\", \"Description\"], inplace = True)     # remove unnecessary columns"
   ]
  },
  {
   "cell_type": "code",
   "execution_count": 92,
   "id": "3c445b42",
   "metadata": {},
   "outputs": [],
   "source": [
    "# Mapping numbers to class names\n",
    "label_map = {\n",
    "    1: \"World\",\n",
    "    2: \"Sports\",\n",
    "    3: \"Business\",\n",
    "    4: \"Sci/Tech\"\n",
    "}\n",
    "\n",
    "df_train[\"Label Name\"] = df_train[\"Label\"].map(label_map)"
   ]
  },
  {
   "cell_type": "code",
   "execution_count": 93,
   "id": "9225b9a3",
   "metadata": {},
   "outputs": [
    {
     "data": {
      "text/html": [
       "<div>\n",
       "<style scoped>\n",
       "    .dataframe tbody tr th:only-of-type {\n",
       "        vertical-align: middle;\n",
       "    }\n",
       "\n",
       "    .dataframe tbody tr th {\n",
       "        vertical-align: top;\n",
       "    }\n",
       "\n",
       "    .dataframe thead th {\n",
       "        text-align: right;\n",
       "    }\n",
       "</style>\n",
       "<table border=\"1\" class=\"dataframe\">\n",
       "  <thead>\n",
       "    <tr style=\"text-align: right;\">\n",
       "      <th></th>\n",
       "      <th>Label</th>\n",
       "      <th>Text</th>\n",
       "      <th>Label Name</th>\n",
       "    </tr>\n",
       "  </thead>\n",
       "  <tbody>\n",
       "    <tr>\n",
       "      <th>0</th>\n",
       "      <td>3</td>\n",
       "      <td>wall st bear claw back black reuters reuters s...</td>\n",
       "      <td>Business</td>\n",
       "    </tr>\n",
       "    <tr>\n",
       "      <th>1</th>\n",
       "      <td>3</td>\n",
       "      <td>carlyle look toward commercial aerospace reute...</td>\n",
       "      <td>Business</td>\n",
       "    </tr>\n",
       "    <tr>\n",
       "      <th>2</th>\n",
       "      <td>3</td>\n",
       "      <td>oil economy cloud stock outlook reuters reuter...</td>\n",
       "      <td>Business</td>\n",
       "    </tr>\n",
       "    <tr>\n",
       "      <th>3</th>\n",
       "      <td>3</td>\n",
       "      <td>iraq halt oil export main southern pipeline re...</td>\n",
       "      <td>Business</td>\n",
       "    </tr>\n",
       "    <tr>\n",
       "      <th>4</th>\n",
       "      <td>3</td>\n",
       "      <td>oil price soar alltime record posing new menac...</td>\n",
       "      <td>Business</td>\n",
       "    </tr>\n",
       "  </tbody>\n",
       "</table>\n",
       "</div>"
      ],
      "text/plain": [
       "   Label                                               Text Label Name\n",
       "0      3  wall st bear claw back black reuters reuters s...   Business\n",
       "1      3  carlyle look toward commercial aerospace reute...   Business\n",
       "2      3  oil economy cloud stock outlook reuters reuter...   Business\n",
       "3      3  iraq halt oil export main southern pipeline re...   Business\n",
       "4      3  oil price soar alltime record posing new menac...   Business"
      ]
     },
     "execution_count": 93,
     "metadata": {},
     "output_type": "execute_result"
    }
   ],
   "source": [
    "df_train.head()"
   ]
  },
  {
   "cell_type": "markdown",
   "id": "2f779587",
   "metadata": {},
   "source": [
    "## TESTING DATASET"
   ]
  },
  {
   "cell_type": "markdown",
   "id": "08e882d9",
   "metadata": {},
   "source": [
    "### Basic Configurations"
   ]
  },
  {
   "cell_type": "code",
   "execution_count": 94,
   "id": "5a6e0106",
   "metadata": {},
   "outputs": [],
   "source": [
    "# Load the training dataset\n",
    "df_test = pd.read_csv(\"test.csv\")\n",
    "\n",
    "# Combine title and description\n",
    "df_test[\"Text\"] = df_test[\"Title\"] + \" \" + df_test[\"Description\"]\n",
    "\n",
    "# Prepare inputs and labels\n",
    "X = df_test[\"Text\"]\n",
    "y = df_test[\"Class Index\"] - 1  # To make classes go from 0-3 instead of 1-4"
   ]
  },
  {
   "cell_type": "markdown",
   "id": "156732b5",
   "metadata": {},
   "source": [
    "### Data Cleaning"
   ]
  },
  {
   "cell_type": "code",
   "execution_count": 95,
   "id": "d1054540",
   "metadata": {},
   "outputs": [],
   "source": [
    "# Lowercasing\n",
    "df_test[\"Text\"] = df_test[\"Text\"].str.lower()"
   ]
  },
  {
   "cell_type": "code",
   "execution_count": 96,
   "id": "1ff48408",
   "metadata": {},
   "outputs": [],
   "source": [
    "# Removing special chars and panctuation\n",
    "import re\n",
    "\n",
    "def clean_text(text):\n",
    "    return re.sub(r\"[^\\w\\s]\", \"\", text)\n",
    "\n",
    "df_test[\"Text\"] = df_test[\"Text\"].apply(clean_text)"
   ]
  },
  {
   "cell_type": "code",
   "execution_count": 97,
   "id": "c37bb3c8",
   "metadata": {},
   "outputs": [
    {
     "name": "stderr",
     "output_type": "stream",
     "text": [
      "[nltk_data] Downloading package stopwords to\n",
      "[nltk_data]     C:\\Users\\user\\AppData\\Roaming\\nltk_data...\n",
      "[nltk_data]   Package stopwords is already up-to-date!\n"
     ]
    }
   ],
   "source": [
    "# Removing stopwords\n",
    "import nltk\n",
    "from nltk.corpus import stopwords\n",
    "\n",
    "nltk.download(\"stopwords\")\n",
    "stop_words = set(stopwords.words(\"English\"))\n",
    "\n",
    "def remove_stopwords(text):\n",
    "    words = text.split()        # split sentence to words\n",
    "    filtered_words = [word for word in words if word not in stop_words]     # remove stopwords\n",
    "    return \" \".join(filtered_words)      # rebuild filtered sentence\n",
    "\n",
    "df_test[\"Text\"] = df_test[\"Text\"].apply(remove_stopwords)"
   ]
  },
  {
   "cell_type": "code",
   "execution_count": 98,
   "id": "965c7732",
   "metadata": {},
   "outputs": [
    {
     "name": "stderr",
     "output_type": "stream",
     "text": [
      "[nltk_data] Downloading package wordnet to\n",
      "[nltk_data]     C:\\Users\\user\\AppData\\Roaming\\nltk_data...\n",
      "[nltk_data]   Package wordnet is already up-to-date!\n"
     ]
    }
   ],
   "source": [
    "# Lemmatizing words\n",
    "from nltk.stem import WordNetLemmatizer\n",
    "\n",
    "nltk.download(\"wordnet\")  \n",
    "lemmatizer = WordNetLemmatizer()\n",
    "\n",
    "def lemmatize_words(text):\n",
    "    words = text.split()        # split sentence to words\n",
    "    lemmatized_words = [lemmatizer.lemmatize(word) for word in words]   # lemmatize\n",
    "    return \" \".join(lemmatized_words)       # rebuild lemmatized sentence\n",
    "\n",
    "df_test[\"Text\"] = df_test[\"Text\"].apply(lemmatize_words)"
   ]
  },
  {
   "cell_type": "code",
   "execution_count": 99,
   "id": "5a5365de",
   "metadata": {},
   "outputs": [],
   "source": [
    "df_test.rename(columns = {\"Class Index\": \"Label\"}, inplace = True)   # rename class index column for clarity\n",
    "df_test.drop(columns = [\"Title\", \"Description\"], inplace = True)     # remove unnecessary columns"
   ]
  },
  {
   "cell_type": "code",
   "execution_count": 100,
   "id": "0eb58bd4",
   "metadata": {},
   "outputs": [],
   "source": [
    "# Mapping numbers to class names\n",
    "label_map = {\n",
    "    1: \"World\",\n",
    "    2: \"Sports\",\n",
    "    3: \"Business\",\n",
    "    4: \"Sci/Tech\"\n",
    "}\n",
    "\n",
    "df_test[\"Label Name\"] = df_test[\"Label\"].map(label_map)"
   ]
  },
  {
   "cell_type": "code",
   "execution_count": 101,
   "id": "f214cf2d",
   "metadata": {},
   "outputs": [
    {
     "data": {
      "text/html": [
       "<div>\n",
       "<style scoped>\n",
       "    .dataframe tbody tr th:only-of-type {\n",
       "        vertical-align: middle;\n",
       "    }\n",
       "\n",
       "    .dataframe tbody tr th {\n",
       "        vertical-align: top;\n",
       "    }\n",
       "\n",
       "    .dataframe thead th {\n",
       "        text-align: right;\n",
       "    }\n",
       "</style>\n",
       "<table border=\"1\" class=\"dataframe\">\n",
       "  <thead>\n",
       "    <tr style=\"text-align: right;\">\n",
       "      <th></th>\n",
       "      <th>Label</th>\n",
       "      <th>Text</th>\n",
       "      <th>Label Name</th>\n",
       "    </tr>\n",
       "  </thead>\n",
       "  <tbody>\n",
       "    <tr>\n",
       "      <th>0</th>\n",
       "      <td>3</td>\n",
       "      <td>fear n pension talk union representing worker ...</td>\n",
       "      <td>Business</td>\n",
       "    </tr>\n",
       "    <tr>\n",
       "      <th>1</th>\n",
       "      <td>4</td>\n",
       "      <td>race second private team set launch date human...</td>\n",
       "      <td>Sci/Tech</td>\n",
       "    </tr>\n",
       "    <tr>\n",
       "      <th>2</th>\n",
       "      <td>4</td>\n",
       "      <td>ky company win grant study peptide ap ap compa...</td>\n",
       "      <td>Sci/Tech</td>\n",
       "    </tr>\n",
       "    <tr>\n",
       "      <th>3</th>\n",
       "      <td>4</td>\n",
       "      <td>prediction unit help forecast wildfire ap ap b...</td>\n",
       "      <td>Sci/Tech</td>\n",
       "    </tr>\n",
       "    <tr>\n",
       "      <th>4</th>\n",
       "      <td>4</td>\n",
       "      <td>calif aim limit farmrelated smog ap ap souther...</td>\n",
       "      <td>Sci/Tech</td>\n",
       "    </tr>\n",
       "  </tbody>\n",
       "</table>\n",
       "</div>"
      ],
      "text/plain": [
       "   Label                                               Text Label Name\n",
       "0      3  fear n pension talk union representing worker ...   Business\n",
       "1      4  race second private team set launch date human...   Sci/Tech\n",
       "2      4  ky company win grant study peptide ap ap compa...   Sci/Tech\n",
       "3      4  prediction unit help forecast wildfire ap ap b...   Sci/Tech\n",
       "4      4  calif aim limit farmrelated smog ap ap souther...   Sci/Tech"
      ]
     },
     "execution_count": 101,
     "metadata": {},
     "output_type": "execute_result"
    }
   ],
   "source": [
    "df_test.head()"
   ]
  },
  {
   "cell_type": "markdown",
   "id": "3d135a6f",
   "metadata": {},
   "source": [
    "### Converting to HuggingFace"
   ]
  },
  {
   "cell_type": "code",
   "execution_count": null,
   "id": "56c572ed",
   "metadata": {},
   "outputs": [],
   "source": [
    "from datasets import Dataset\n",
    "\n",
    "# Converting trainig and testing datasets to HuggingFace datasets\n",
    "train_dataset = Dataset.from_pandas(df_train)\n",
    "test_dataset = Dataset.from_pandas(df_test)"
   ]
  },
  {
   "cell_type": "markdown",
   "id": "8497895d",
   "metadata": {},
   "source": [
    "### Vactorization (TF-IDF)"
   ]
  },
  {
   "cell_type": "code",
   "execution_count": 111,
   "id": "ecb1b204",
   "metadata": {},
   "outputs": [],
   "source": [
    "from sklearn.feature_extraction.text import TfidfVectorizer\n",
    "\n",
    "# Cleaned text var for train and test\n",
    "X_train = df_train[\"Text\"]\n",
    "X_test = df_test[\"Text\"]\n",
    "\n",
    "# Cleaned label var for train and test\n",
    "Y_train = df_train[\"Label\"]\n",
    "Y_test = df_test[\"Label\"]\n",
    "\n",
    "\n",
    "# Initializing vectorizer\n",
    "vectorizer = TfidfVectorizer(max_features = 5000)\n",
    "X_train_tfidf = vectorizer.fit_transform(X_train)\n",
    "X_test_tfidf = vectorizer.transform(X_test)"
   ]
  },
  {
   "cell_type": "code",
   "execution_count": 112,
   "id": "6ece3c71",
   "metadata": {},
   "outputs": [
    {
     "name": "stdout",
     "output_type": "stream",
     "text": [
      "['01' '02' '03' '04' '05' '10' '100' '1000' '10000' '100000']\n"
     ]
    }
   ],
   "source": [
    "feature_names = vectorizer.get_feature_names_out()\n",
    "print(feature_names[:10])"
   ]
  },
  {
   "cell_type": "markdown",
   "id": "38601cfa",
   "metadata": {},
   "source": [
    "### Training the Model (Logistic Regression)"
   ]
  },
  {
   "cell_type": "code",
   "execution_count": 114,
   "id": "32aecb0e",
   "metadata": {},
   "outputs": [],
   "source": [
    "from sklearn.linear_model import LogisticRegression\n",
    "\n",
    "# Intializing the model\n",
    "model = LogisticRegression(max_iter = 1000)\n",
    "\n",
    "# Fitting the model\n",
    "model.fit(X_train_tfidf, Y_train)\n",
    "\n",
    "# Making predictions\n",
    "y_pred = model.predict(X_test_tfidf)\n"
   ]
  },
  {
   "cell_type": "markdown",
   "id": "7795a0e1",
   "metadata": {
    "vscode": {
     "languageId": "bat"
    }
   },
   "source": [
    "### Evaluating the Model"
   ]
  },
  {
   "cell_type": "code",
   "execution_count": 115,
   "id": "6a396a47",
   "metadata": {},
   "outputs": [],
   "source": [
    "from sklearn.metrics import classification_report, accuracy_score, confusion_matrix"
   ]
  },
  {
   "cell_type": "code",
   "execution_count": 118,
   "id": "7fb3f9ed",
   "metadata": {},
   "outputs": [
    {
     "name": "stdout",
     "output_type": "stream",
     "text": [
      "Accuracy: 0.9057894736842105\n"
     ]
    }
   ],
   "source": [
    "# Accuracy Measures\n",
    "accuracy = accuracy_score(Y_test, y_pred)\n",
    "print(f\"Accuracy: {accuracy}\")"
   ]
  },
  {
   "cell_type": "code",
   "execution_count": 136,
   "id": "ea37f79c",
   "metadata": {},
   "outputs": [
    {
     "name": "stdout",
     "output_type": "stream",
     "text": [
      "Classification Report:\n",
      "              precision    recall  f1-score   support\n",
      "\n",
      "           1       0.92      0.90      0.91      1900\n",
      "           2       0.95      0.98      0.96      1900\n",
      "           3       0.87      0.87      0.87      1900\n",
      "           4       0.88      0.88      0.88      1900\n",
      "\n",
      "    accuracy                           0.91      7600\n",
      "   macro avg       0.91      0.91      0.91      7600\n",
      "weighted avg       0.91      0.91      0.91      7600\n",
      "\n"
     ]
    }
   ],
   "source": [
    "# Classification report\n",
    "class_rep = classification_report(Y_test, y_pred)\n",
    "print(\"Classification Report:\")\n",
    "print(class_rep)"
   ]
  },
  {
   "cell_type": "code",
   "execution_count": 137,
   "id": "b38eb925",
   "metadata": {},
   "outputs": [
    {
     "name": "stdout",
     "output_type": "stream",
     "text": [
      "Confusion Matrix:\n",
      "[[1709   58   80   53]\n",
      " [  21 1856   11   12]\n",
      " [  64   21 1651  164]\n",
      " [  62   25  145 1668]]\n"
     ]
    }
   ],
   "source": [
    "# Confusion matrix\n",
    "conf_mat = confusion_matrix(Y_test, y_pred)\n",
    "print(\"Confusion Matrix:\")\n",
    "print(conf_mat)"
   ]
  },
  {
   "cell_type": "code",
   "execution_count": 135,
   "id": "191773d7",
   "metadata": {},
   "outputs": [
    {
     "data": {
      "image/png": "[encoded data removed]",
      "text/plain": [
       "<Figure size 1000x800 with 2 Axes>"
      ]
     },
     "metadata": {},
     "output_type": "display_data"
    }
   ],
   "source": [
    "# Visualizing the confusion matrix\n",
    "import seaborn as sns\n",
    "import matplotlib.pyplot as plt\n",
    "\n",
    "plt.figure(figsize = (10, 8))\n",
    "sns.heatmap(conf_mat, annot = True, fmt = 'd', cmap = 'Greens')\n",
    "plt.title(\"Confusion Matrix\")\n",
    "plt.xlabel(\"Predicted Values\")\n",
    "plt.ylabel(\"Actual Values\")\n",
    "plt.show()"
   ]
  },
  {
   "cell_type": "markdown",
   "id": "a26a0d16",
   "metadata": {},
   "source": [
    "###"
   ]
  }
 ],
 "metadata": {
  "kernelspec": {
   "display_name": "Python 3",
   "language": "python",
   "name": "python3"
  },
  "language_info": {
   "codemirror_mode": {
    "name": "ipython",
    "version": 3
   },
   "file_extension": ".py",
   "mimetype": "text/x-python",
   "name": "python",
   "nbconvert_exporter": "python",
   "pygments_lexer": "ipython3",
   "version": "3.13.5"
  }
 },
 "nbformat": 4,
 "nbformat_minor": 5
}
